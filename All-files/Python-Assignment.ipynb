{
 "cells": [
  {
   "cell_type": "markdown",
   "metadata": {},
   "source": [
    "# Python assignment-BCB546X\n",
    "Mahsa Askary Hemmat\n",
    "11/27/2019"
   ]
  },
  {
   "cell_type": "markdown",
   "metadata": {},
   "source": [
    "\n",
    "## Here's the start of our Python script. Thanks for completing it for me! - Dr. X\n",
    "## IMPORTANT: install BioPython so that this will work"
   ]
  },
  {
   "cell_type": "code",
   "execution_count": 110,
   "metadata": {},
   "outputs": [],
   "source": [
    "# below lines import the 'X' library and renames it as 'Y' for when it is called later, these are the libraries that\n",
    "# we need for the code\n",
    "from Bio import SeqIO\n",
    "from Bio.Data import CodonTable\n",
    "import pandas as pd\n",
    "from Bio.SeqUtils.ProtParam import ProteinAnalysis\n",
    "from Bio.SeqUtils import GC\n",
    "import numpy as np \n",
    "from Bio.Seq import Seq\n",
    "from Bio.Alphabet import IUPAC\n",
    "import matplotlib.pyplot as plt    \n",
    "import seaborn as sns   "
   ]
  },
  {
   "cell_type": "markdown",
   "metadata": {},
   "source": [
    "# FUNCTIONS\n",
    "## 1- Getting the sequences and descripting the following function"
   ]
  },
  {
   "cell_type": "code",
   "execution_count": 111,
   "metadata": {},
   "outputs": [],
   "source": [
    "def get_sequences_from_file(fasta_fn): #First it gets a fasta file as the input\n",
    "    sequence_data_dict = {} #Creats an empty dictionary\n",
    "    for record in SeqIO.parse(fasta_fn, \"fasta\"): #a for loop that takes the fasta file and a fasta string\n",
    "# and runs the below command for each record\n",
    "        description = record.description.split()#save the description for each record\n",
    "        species_name = description[1] + \" \" + description[2]#use the description to create the species names\n",
    "        sequence_data_dict[species_name] = record.seq #add the species names whcih contains the description \n",
    "#to the dictionary \n",
    "    return(sequence_data_dict)#returns the dictionary which contains the description and species names\n"
   ]
  },
  {
   "cell_type": "code",
   "execution_count": 112,
   "metadata": {},
   "outputs": [
    {
     "data": {
      "text/plain": [
       "{'Aptenodytes forsteri': Seq('ATGGCCCCAAATCTCCGAAAATCCCATCCCCTCCTAAAAATAATTAATAACTCC...TAA', SingleLetterAlphabet()),\n",
       " 'Aptenodytes patagonicus': Seq('ATGGCCCCAAACCTCCGAAAATCCCATCCTCTCCTAAAAATAATTAATAACTCC...TAA', SingleLetterAlphabet()),\n",
       " 'Eudyptes chrysocome': Seq('ATGGCCCCCAACCTCCGAAAATCCCACCCCCTCCTAAAAACAATCAATAACTCC...TAA', SingleLetterAlphabet()),\n",
       " 'Eudyptes chrysolophus': Seq('ATGGCCCCCAACCTCCGAAAATCCCACCCCCTCCTAAAAACAATCAATAACTCC...TAA', SingleLetterAlphabet()),\n",
       " 'Eudyptes sclateri': Seq('ATGGCCCCCAACCTCCGAAAATCCCACCCCCTCCTAAAAACAATCAATAACTCC...TAA', SingleLetterAlphabet()),\n",
       " 'Eudyptula minor': Seq('ATGGCCCCCAACCTCCGAAAATCTCACCCCCTCCTAAAAATAATCAACAACTCT...TAA', SingleLetterAlphabet()),\n",
       " 'Pygoscelis adeliae': Seq('ATGGCCCCCAACCTCCGAAAATCCCACCCTCTCCTAAAAATAATTAACAACTCC...TAA', SingleLetterAlphabet()),\n",
       " 'Pygoscelis antarctica': Seq('ATGGCCCCCAACCTCCGAAAATCCCACCCTCTCCTAAAAATAATCAACAACTCC...TAG', SingleLetterAlphabet()),\n",
       " 'Pygoscelis papua': Seq('ATGGCCCCCAACCTTCGAAAATCCCACCCTCTCCTAAAAATAATCAACAAATCC...TAG', SingleLetterAlphabet()),\n",
       " 'Spheniscus demersus': Seq('ATGGCCCCCAACCTCCGAAAATCCCACCCTCTCCTAAAAACAATCAACAACTCC...TAA', SingleLetterAlphabet()),\n",
       " 'Spheniscus humboldti': Seq('ATGGCCCCCAACCTCCGAAAATCCCACCCTCTCCTAAAAACAATCAACAACTCC...TAA', SingleLetterAlphabet()),\n",
       " 'Spheniscus magellanicus': Seq('ATGGCCCCCAACCTCCGAAAATCCCACCCTCTCCTAAAAACAATCAACAACTCC...TAA', SingleLetterAlphabet())}"
      ]
     },
     "execution_count": 112,
     "metadata": {},
     "output_type": "execute_result"
    }
   ],
   "source": [
    "# testing the get_sequences_from_file function\n",
    "penguins_dict = get_sequences_from_file(fasta_fn='penguins_cytb.fasta')\n",
    "penguins_dict"
   ]
  },
  {
   "cell_type": "markdown",
   "metadata": {},
   "source": [
    "## 2-String translation\n",
    "\n",
    "- The follwoing function translates sequences\n",
    "- All sequences start at codon position 1\n",
    "- Used Dr. X pseudo-code and suggestions\n"
   ]
  },
  {
   "cell_type": "code",
   "execution_count": 113,
   "metadata": {},
   "outputs": [],
   "source": [
    "def translate_Seq(string_nucleotides): # Defining a function that its input is a string of nucleotides\n",
    "    mito_table = CodonTable.unambiguous_dna_by_name[\"Vertebrate Mitochondrial\"] # Reading the translation table\n",
    "    aa_seq_string =\"\" # Creates an empty string\n",
    "    for i in range(0, len(string_nucleotides), 3):   # for loop through every 3 characters in string_nucleotides \n",
    "    \n",
    "    \n",
    "        codon = string_nucleotides[i:i+3]\n",
    "        if codon in mito_table.stop_codons:\n",
    "            break        # IMPORTANT: check to see if the sequence has a stop codon\n",
    "            \n",
    "        aminoacid = mito_table.forward_table[codon]  # print the aminoacid\n",
    "        \n",
    "        aa_seq_string += aminoacid  # add the aa to aa_seq_string\n",
    "        \n",
    "    return(aa_seq_string) #returns amino acid sequence\n",
    "\n",
    "    "
   ]
  },
  {
   "cell_type": "code",
   "execution_count": 114,
   "metadata": {},
   "outputs": [
    {
     "data": {
      "text/plain": [
       "'MYLAVRYGI'"
      ]
     },
     "execution_count": 114,
     "metadata": {},
     "output_type": "execute_result"
    }
   ],
   "source": [
    "# testing the translate_Seq function\n",
    "translate_Seq(string_nucleotides= 'ATGTATCTAGCAGTACGATACGGGATTAGG')"
   ]
  },
  {
   "cell_type": "markdown",
   "metadata": {},
   "source": [
    "## 3- Better way to write a translation function"
   ]
  },
  {
   "cell_type": "code",
   "execution_count": 115,
   "metadata": {},
   "outputs": [],
   "source": [
    "# uses biopython\n",
    "def alt_translate_function(string_nucleotides): # Defining a function that its input is a string of nucleotides\n",
    "    code_dna = Seq(string_nucleotides, IUPAC.unambiguous_dna) # Takes the input, makes it a Seq object, \n",
    "    # as a IUPAC alphabet for Seq reference.\n",
    "    alt_aa_string = code_dna.translate(table = \"Vertebrate Mitochondrial\", to_stop = True) # translate using \n",
    "    # biopython functions\n",
    "    return (alt_aa_string) # returns amino acid sequence\n"
   ]
  },
  {
   "cell_type": "code",
   "execution_count": 116,
   "metadata": {},
   "outputs": [
    {
     "data": {
      "text/plain": [
       "Seq('MYLAVRYGI', IUPACProtein())"
      ]
     },
     "execution_count": 116,
     "metadata": {},
     "output_type": "execute_result"
    }
   ],
   "source": [
    "# Testing the alt_translate_function\n",
    "alt_translate_function('ATGTATCTAGCAGTACGATACGGGATTAGG')"
   ]
  },
  {
   "cell_type": "code",
   "execution_count": 117,
   "metadata": {},
   "outputs": [],
   "source": [
    "def compute_mw_Seq(Seq_object): # defining a function called 'compute_mw_Seq' \n",
    "    # requiring an argument called 'Seq_object' for the input file\n",
    "    my_seq = translate_Seq(Seq_object)    # uses the 'translate_Seq' function created above \n",
    "    # to translate the input sequence and assigns the new string of amino acids to 'my_seq'\n",
    "    analysed_seq = ProteinAnalysis(str(my_seq))    # uses the ProteinAnalysis from Biopython which \n",
    "    # converts the input as a string 'my_seq' \n",
    "    # to a Seq object while validating it is a protein sequence and assigns the output to 'analysed_seq'\n",
    "    molecular_weight = analysed_seq.molecular_weight()    # uses the .molecular_weight() from Biopython to calculate \n",
    "    # the molecular weight of 'analysed_seq' from above and assigns it to 'molecular_weight'\n",
    "    return molecular_weight    # returns the 'molecular_weight'"
   ]
  },
  {
   "cell_type": "code",
   "execution_count": 118,
   "metadata": {},
   "outputs": [
    {
     "data": {
      "text/plain": [
       "921.0964000000001"
      ]
     },
     "execution_count": 118,
     "metadata": {},
     "output_type": "execute_result"
    }
   ],
   "source": [
    "# Testing the above function\n",
    "compute_mw_Seq('ATGCGCGTGAATTTGGATGCATGCTAGTAATATCGTTAC')"
   ]
  },
  {
   "cell_type": "markdown",
   "metadata": {},
   "source": [
    "## 4-GC CONTENT ANALYSIS FUNCTION\n",
    "A function that calculates the GC-content (proportion of \"G\" and \"C\") of each DNA sequence and returns this value."
   ]
  },
  {
   "cell_type": "code",
   "execution_count": 119,
   "metadata": {},
   "outputs": [],
   "source": [
    "def GC_contents(string_nucleotides): # Defines a function that gets a string of nucleotidea as input file and\n",
    "    # calculates the GC content\n",
    "    content = GC(string_nucleotides) ## use biopython processess to get GC content\n",
    "    return content # Returns the GC content"
   ]
  },
  {
   "cell_type": "code",
   "execution_count": 120,
   "metadata": {},
   "outputs": [
    {
     "data": {
      "text/plain": [
       "51.02040816326531"
      ]
     },
     "execution_count": 120,
     "metadata": {},
     "output_type": "execute_result"
    }
   ],
   "source": [
    "# Testing the GC_contents function\n",
    "GC_contents('ATGGGTCCTAGTCGTAGCGTACGTTTAACGTGCGATGGGTTTCGTACGT')"
   ]
  },
  {
   "cell_type": "markdown",
   "metadata": {},
   "source": [
    "# Main"
   ]
  },
  {
   "cell_type": "code",
   "execution_count": 121,
   "metadata": {},
   "outputs": [],
   "source": [
    "cytb_seqs = get_sequences_from_file(\"penguins_cytb.fasta\") # Getting the sequences from a FASTA file and assign it to\n",
    "# an object\n",
    "\n",
    "penguins_df = pd.read_csv(\"penguins_mass.csv\") # Includes only data for body mass \n",
    "species_list = list(penguins_df.species) # List of species"
   ]
  },
  {
   "cell_type": "markdown",
   "metadata": {},
   "source": [
    "\n",
    "## 6-Add two new columns to the penguin DataFrame: (1) molecular weight and (2) GC content. Set the value to 'NaN' to indicate that these cells are currently empty."
   ]
  },
  {
   "cell_type": "code",
   "execution_count": 122,
   "metadata": {
    "scrolled": true
   },
   "outputs": [
    {
     "data": {
      "text/html": [
       "<div>\n",
       "<style scoped>\n",
       "    .dataframe tbody tr th:only-of-type {\n",
       "        vertical-align: middle;\n",
       "    }\n",
       "\n",
       "    .dataframe tbody tr th {\n",
       "        vertical-align: top;\n",
       "    }\n",
       "\n",
       "    .dataframe thead th {\n",
       "        text-align: right;\n",
       "    }\n",
       "</style>\n",
       "<table border=\"1\" class=\"dataframe\">\n",
       "  <thead>\n",
       "    <tr style=\"text-align: right;\">\n",
       "      <th></th>\n",
       "      <th>species</th>\n",
       "      <th>mass</th>\n",
       "      <th>molecular_weight</th>\n",
       "      <th>GC_content</th>\n",
       "    </tr>\n",
       "  </thead>\n",
       "  <tbody>\n",
       "    <tr>\n",
       "      <td>0</td>\n",
       "      <td>Aptenodytes forsteri</td>\n",
       "      <td>28.00</td>\n",
       "      <td>NaN</td>\n",
       "      <td>NaN</td>\n",
       "    </tr>\n",
       "    <tr>\n",
       "      <td>1</td>\n",
       "      <td>Aptenodytes patagonicus</td>\n",
       "      <td>13.40</td>\n",
       "      <td>NaN</td>\n",
       "      <td>NaN</td>\n",
       "    </tr>\n",
       "    <tr>\n",
       "      <td>2</td>\n",
       "      <td>Eudyptes chrysocome</td>\n",
       "      <td>2.80</td>\n",
       "      <td>NaN</td>\n",
       "      <td>NaN</td>\n",
       "    </tr>\n",
       "    <tr>\n",
       "      <td>3</td>\n",
       "      <td>Eudyptes chrysolophus</td>\n",
       "      <td>4.50</td>\n",
       "      <td>NaN</td>\n",
       "      <td>NaN</td>\n",
       "    </tr>\n",
       "    <tr>\n",
       "      <td>4</td>\n",
       "      <td>Eudyptes sclateri</td>\n",
       "      <td>4.25</td>\n",
       "      <td>NaN</td>\n",
       "      <td>NaN</td>\n",
       "    </tr>\n",
       "    <tr>\n",
       "      <td>5</td>\n",
       "      <td>Eudyptula minor</td>\n",
       "      <td>1.60</td>\n",
       "      <td>NaN</td>\n",
       "      <td>NaN</td>\n",
       "    </tr>\n",
       "    <tr>\n",
       "      <td>6</td>\n",
       "      <td>Pygoscelis adeliae</td>\n",
       "      <td>4.60</td>\n",
       "      <td>NaN</td>\n",
       "      <td>NaN</td>\n",
       "    </tr>\n",
       "    <tr>\n",
       "      <td>7</td>\n",
       "      <td>Pygoscelis antarctica</td>\n",
       "      <td>4.10</td>\n",
       "      <td>NaN</td>\n",
       "      <td>NaN</td>\n",
       "    </tr>\n",
       "    <tr>\n",
       "      <td>8</td>\n",
       "      <td>Pygoscelis papua</td>\n",
       "      <td>6.10</td>\n",
       "      <td>NaN</td>\n",
       "      <td>NaN</td>\n",
       "    </tr>\n",
       "    <tr>\n",
       "      <td>9</td>\n",
       "      <td>Spheniscus demersus</td>\n",
       "      <td>3.20</td>\n",
       "      <td>NaN</td>\n",
       "      <td>NaN</td>\n",
       "    </tr>\n",
       "    <tr>\n",
       "      <td>10</td>\n",
       "      <td>Spheniscus humboldti</td>\n",
       "      <td>4.75</td>\n",
       "      <td>NaN</td>\n",
       "      <td>NaN</td>\n",
       "    </tr>\n",
       "    <tr>\n",
       "      <td>11</td>\n",
       "      <td>Spheniscus magellanicus</td>\n",
       "      <td>3.40</td>\n",
       "      <td>NaN</td>\n",
       "      <td>NaN</td>\n",
       "    </tr>\n",
       "  </tbody>\n",
       "</table>\n",
       "</div>"
      ],
      "text/plain": [
       "                    species   mass  molecular_weight  GC_content\n",
       "0      Aptenodytes forsteri  28.00               NaN         NaN\n",
       "1   Aptenodytes patagonicus  13.40               NaN         NaN\n",
       "2       Eudyptes chrysocome   2.80               NaN         NaN\n",
       "3     Eudyptes chrysolophus   4.50               NaN         NaN\n",
       "4         Eudyptes sclateri   4.25               NaN         NaN\n",
       "5           Eudyptula minor   1.60               NaN         NaN\n",
       "6        Pygoscelis adeliae   4.60               NaN         NaN\n",
       "7     Pygoscelis antarctica   4.10               NaN         NaN\n",
       "8          Pygoscelis papua   6.10               NaN         NaN\n",
       "9       Spheniscus demersus   3.20               NaN         NaN\n",
       "10     Spheniscus humboldti   4.75               NaN         NaN\n",
       "11  Spheniscus magellanicus   3.40               NaN         NaN"
      ]
     },
     "execution_count": 122,
     "metadata": {},
     "output_type": "execute_result"
    }
   ],
   "source": [
    "penguins_df['molecular_weight'] = np.nan    # creates a column called 'molecular_weight' \n",
    "# in the 'penguins_df' dataframe and assigns NaN as values for the column\n",
    "penguins_df['GC_content'] = np.nan    # creates a column called 'GC_content' \n",
    "# in the 'penguins_df' dataframe and assigns NaN as values for the column\n",
    "penguins_df    # prints the 'penguins_df' dataframe with the new columns of all NaN"
   ]
  },
  {
   "cell_type": "markdown",
   "metadata": {},
   "source": [
    "## 7- Write a for-loop that translates each sequence and also gets molecular weight and computes the GC content of each translated sequence and adds those data to DataFrame"
   ]
  },
  {
   "cell_type": "code",
   "execution_count": 123,
   "metadata": {},
   "outputs": [
    {
     "data": {
      "text/html": [
       "<div>\n",
       "<style scoped>\n",
       "    .dataframe tbody tr th:only-of-type {\n",
       "        vertical-align: middle;\n",
       "    }\n",
       "\n",
       "    .dataframe tbody tr th {\n",
       "        vertical-align: top;\n",
       "    }\n",
       "\n",
       "    .dataframe thead th {\n",
       "        text-align: right;\n",
       "    }\n",
       "</style>\n",
       "<table border=\"1\" class=\"dataframe\">\n",
       "  <thead>\n",
       "    <tr style=\"text-align: right;\">\n",
       "      <th></th>\n",
       "      <th>species</th>\n",
       "      <th>mass</th>\n",
       "      <th>molecular_weight</th>\n",
       "      <th>GC_content</th>\n",
       "    </tr>\n",
       "  </thead>\n",
       "  <tbody>\n",
       "    <tr>\n",
       "      <td>0</td>\n",
       "      <td>Aptenodytes forsteri</td>\n",
       "      <td>28.00</td>\n",
       "      <td>42459.6021</td>\n",
       "      <td>48.381452</td>\n",
       "    </tr>\n",
       "    <tr>\n",
       "      <td>1</td>\n",
       "      <td>Aptenodytes patagonicus</td>\n",
       "      <td>13.40</td>\n",
       "      <td>42563.7067</td>\n",
       "      <td>49.693788</td>\n",
       "    </tr>\n",
       "    <tr>\n",
       "      <td>2</td>\n",
       "      <td>Eudyptes chrysocome</td>\n",
       "      <td>2.80</td>\n",
       "      <td>42475.5753</td>\n",
       "      <td>51.181102</td>\n",
       "    </tr>\n",
       "    <tr>\n",
       "      <td>3</td>\n",
       "      <td>Eudyptes chrysolophus</td>\n",
       "      <td>4.50</td>\n",
       "      <td>42445.5493</td>\n",
       "      <td>50.918635</td>\n",
       "    </tr>\n",
       "    <tr>\n",
       "      <td>4</td>\n",
       "      <td>Eudyptes sclateri</td>\n",
       "      <td>4.25</td>\n",
       "      <td>42475.5753</td>\n",
       "      <td>50.831146</td>\n",
       "    </tr>\n",
       "    <tr>\n",
       "      <td>5</td>\n",
       "      <td>Eudyptula minor</td>\n",
       "      <td>1.60</td>\n",
       "      <td>42491.6408</td>\n",
       "      <td>49.256343</td>\n",
       "    </tr>\n",
       "    <tr>\n",
       "      <td>6</td>\n",
       "      <td>Pygoscelis adeliae</td>\n",
       "      <td>4.60</td>\n",
       "      <td>42458.6140</td>\n",
       "      <td>49.081365</td>\n",
       "    </tr>\n",
       "    <tr>\n",
       "      <td>7</td>\n",
       "      <td>Pygoscelis antarctica</td>\n",
       "      <td>4.10</td>\n",
       "      <td>42404.5423</td>\n",
       "      <td>47.769029</td>\n",
       "    </tr>\n",
       "    <tr>\n",
       "      <td>8</td>\n",
       "      <td>Pygoscelis papua</td>\n",
       "      <td>6.10</td>\n",
       "      <td>42595.8759</td>\n",
       "      <td>47.156605</td>\n",
       "    </tr>\n",
       "    <tr>\n",
       "      <td>9</td>\n",
       "      <td>Spheniscus demersus</td>\n",
       "      <td>3.20</td>\n",
       "      <td>42431.5490</td>\n",
       "      <td>48.293963</td>\n",
       "    </tr>\n",
       "    <tr>\n",
       "      <td>10</td>\n",
       "      <td>Spheniscus humboldti</td>\n",
       "      <td>4.75</td>\n",
       "      <td>42399.5520</td>\n",
       "      <td>49.256343</td>\n",
       "    </tr>\n",
       "    <tr>\n",
       "      <td>11</td>\n",
       "      <td>Spheniscus magellanicus</td>\n",
       "      <td>3.40</td>\n",
       "      <td>42459.6021</td>\n",
       "      <td>48.206474</td>\n",
       "    </tr>\n",
       "  </tbody>\n",
       "</table>\n",
       "</div>"
      ],
      "text/plain": [
       "                    species   mass  molecular_weight  GC_content\n",
       "0      Aptenodytes forsteri  28.00        42459.6021   48.381452\n",
       "1   Aptenodytes patagonicus  13.40        42563.7067   49.693788\n",
       "2       Eudyptes chrysocome   2.80        42475.5753   51.181102\n",
       "3     Eudyptes chrysolophus   4.50        42445.5493   50.918635\n",
       "4         Eudyptes sclateri   4.25        42475.5753   50.831146\n",
       "5           Eudyptula minor   1.60        42491.6408   49.256343\n",
       "6        Pygoscelis adeliae   4.60        42458.6140   49.081365\n",
       "7     Pygoscelis antarctica   4.10        42404.5423   47.769029\n",
       "8          Pygoscelis papua   6.10        42595.8759   47.156605\n",
       "9       Spheniscus demersus   3.20        42431.5490   48.293963\n",
       "10     Spheniscus humboldti   4.75        42399.5520   49.256343\n",
       "11  Spheniscus magellanicus   3.40        42459.6021   48.206474"
      ]
     },
     "execution_count": 123,
     "metadata": {},
     "output_type": "execute_result"
    }
   ],
   "source": [
    "for key, value in penguins_dict.items():    # starting a For Loop that will iterate through the 'penguins_dict' dictionary\n",
    "    penguins_df.loc[penguins_df.species == key, 'molecular_weight'] = compute_mw_Seq(value)    # uses the 'compute_mw_Seq' created above to translate and then calculate the molecular weight of each vaule (nucleotide sequence) in the dictionary and the fills in the output for the corresponding key in the 'penguins_df' dataframe under the 'molecular_weight' column\n",
    "    penguins_df.loc[penguins_df.species == key, 'GC_content'] = GC_contents(value)    # uses the 'compute_mw_Seq' created above to calculate the GC content of each vaule (nucleotide sequence) in the dictionary and the fills in the output for the corresponding key in the 'penguins_df' dataframe under the 'GC_content' column\n",
    "penguins_df    # prints the 'penguins_df' dataframe with filled in values for 'molecular_weight' and 'GC_content'"
   ]
  },
  {
   "cell_type": "markdown",
   "metadata": {},
   "source": [
    "## 8-Plot a bar-chart of the mass with the x-axes labeled with species names."
   ]
  },
  {
   "cell_type": "code",
   "execution_count": 124,
   "metadata": {},
   "outputs": [
    {
     "data": {
      "text/plain": [
       "(array([ 0,  1,  2,  3,  4,  5,  6,  7,  8,  9, 10, 11]),\n",
       " <a list of 12 Text xticklabel objects>)"
      ]
     },
     "execution_count": 124,
     "metadata": {},
     "output_type": "execute_result"
    },
    {
     "data": {
      "image/png": "[encoded data removed]",
      "text/plain": [
       "<Figure size 720x432 with 1 Axes>"
      ]
     },
     "metadata": {
      "needs_background": "light"
     },
     "output_type": "display_data"
    }
   ],
   "source": [
    "fig, ax = plt.subplots(figsize=(10,6))    # defines the size of the following figure\n",
    "sns.barplot(data=penguins_df, x='species', y='mass')    # uses the .barplot() function from seaborn to generate a \n",
    "#barplot using the 'penguins_df' dataframe  with the 'species' collumn on the x-axis and the 'mass' variable on \n",
    "#the y-axis\n",
    "ax.set(xlabel='Species', ylabel='Mass (kg)')    # renames the axes\n",
    "plt.title(\"Mass for 8 species of penguins\")    # renames the title of the graph\n",
    "plt.xticks(rotation=90)  # rotates the bar lables on the x-axis; adapted from \n",
    "#https://stackoverflow.com/questions/10998621/rotate-axis-text-in-python-matplotlib"
   ]
  },
  {
   "cell_type": "markdown",
   "metadata": {},
   "source": [
    "### *Q1* What is the smallest penguin species? Eudyptula minor\n",
    "### *Q2* What else is interesting about this species? Little penguins live an average of 6 years.\n",
    "https://animaldiversity.org/accounts/Eudyptula_minor/"
   ]
  },
  {
   "cell_type": "markdown",
   "metadata": {},
   "source": [
    "## 9-Plot a visualization of the molecular weight (y-axis) as a function of GC-content (x-axis)."
   ]
  },
  {
   "cell_type": "code",
   "execution_count": 125,
   "metadata": {},
   "outputs": [
    {
     "data": {
      "text/plain": [
       "<seaborn.axisgrid.FacetGrid at 0x1a23b06250>"
      ]
     },
     "execution_count": 125,
     "metadata": {},
     "output_type": "execute_result"
    },
    {
     "data": {
      "image/png": "[encoded data removed]",
      "text/plain": [
       "<Figure size 523.25x360 with 1 Axes>"
      ]
     },
     "metadata": {
      "needs_background": "light"
     },
     "output_type": "display_data"
    }
   ],
   "source": [
    "sns.lmplot(\"GC_content\", \"molecular_weight\", data=penguins_df, fit_reg=False, \n",
    "           scatter_kws={'alpha':0.3,\"s\": 50}, hue='species') # scatter plot of mol_weight against GC, \n",
    "# color sorted by species"
   ]
  },
  {
   "cell_type": "markdown",
   "metadata": {},
   "source": [
    "## 10- Save the new DataFrame to a file called \"penguins_mass_cytb.csv\""
   ]
  },
  {
   "cell_type": "code",
   "execution_count": 126,
   "metadata": {},
   "outputs": [],
   "source": [
    "\n",
    "penguins_df.to_csv('penguins_mass_cytb.csv')    # saves the 'penguins_df' dataframe to a csv in the working directory \n",
    "# called 'penguins_mass_cytb.csv'"
   ]
  },
  {
   "cell_type": "markdown",
   "metadata": {},
   "source": [
    "## Bonus: I found the following script on the internet for calculating the number of each nucleotide in each sequence and length of sequence"
   ]
  },
  {
   "cell_type": "code",
   "execution_count": 5,
   "metadata": {},
   "outputs": [],
   "source": [
    "\"\"\"\n",
    "BioPython Example File - Using FASTA nucleotide files\n",
    "\n",
    "\n",
    "It has been tested on BioPython 1.43 with Python 2.3, and is suitable\n",
    "for Windows, Linux etc.\n",
    "\n",
    "See associated webpage:\n",
    "\n",
    "http://www2.warwick.ac.uk/fac/sci/moac/currentstudents/peter_cock/python/fasta_n/\n",
    "\n",
    "Peter Cock, MOAC, University of Warwick, UK\n",
    "17 April 2007\n",
    "\"\"\"\n",
    "\n",
    "#Open a FASTA input file of gene nucleotides sequences:\n",
    "input_file = open('penguins_cytb.fasta')\n",
    "\n",
    "\n",
    "#This is a universal format, you can read it\n",
    "#with any text editor - Microsoft Excel is\n",
    "#also a good choice.\n",
    "output_file = open('nucleotide_counts.tsv','w')\n",
    "\n",
    "#We will now write a header line to our output file.\n",
    "#\n",
    "#We must write \\t to mean a tab, and \\n to mean\n",
    "#an end of line (new line) character.\n",
    "#\n",
    "#i.e.\n",
    "#Gene (tab) A (tab) C (tab) G (tab) T (tab) Length%\n",
    "output_file.write('Gene\\tA\\tC\\tG\\tT\\tLength\\n')\n",
    "\n",
    "\n",
    "#Get SeqIO to read this file in \"fasta\" format,\n",
    "#and use it to see each record in the file one-by-one\n",
    "for cur_record in SeqIO.parse(input_file, \"fasta\") :\n",
    "    #Because we used the Bio.SeqIO parser, each record\n",
    "    #is SeqRecord object which includes name and seq\n",
    "    #properties.\n",
    "    gene_name = cur_record.name\n",
    "\n",
    "    #Just like a string in python, a Biopython sequence\n",
    "    #object has a 'count' method we can use:\n",
    "    A_count = cur_record.seq.count('A')\n",
    "    C_count = cur_record.seq.count('C')\n",
    "    G_count = cur_record.seq.count('G')\n",
    "    T_count = cur_record.seq.count('T')\n",
    "\n",
    "    #We would also like to know the number of nucleotides\n",
    "    #in this gene (which should add up to the four\n",
    "    #base counts, if there are no unknown bases, N)\n",
    "    length = len(cur_record.seq)\n",
    "\n",
    "\n",
    "\n",
    "\n",
    "    #Finally, we are going to save this information\n",
    "    #as a single tab separated line in our output file.\n",
    "    #\n",
    "    #As before (when we wrote the header line), we must\n",
    "    #write \\t to mean a tab, and \\n to mean an end of line\n",
    "    #(new line) character.\n",
    "    #\n",
    "    #We are using the string formatting (or interpolation)\n",
    "    # operator % so the %s means insert a string,\n",
    "    #while %i means insert an integer and %f a floating\n",
    "    #point (non-integer).\n",
    "    #\n",
    "    #The \\ character means this command continues on the\n",
    "    #next line\n",
    "    output_line = '%s\\t%i\\t%i\\t%i\\t%i\\t%f\\n' % \\\n",
    "    (gene_name, A_count, C_count, G_count, T_count, length)\n",
    "\n",
    "    # \n",
    "    output_file.write(output_line)\n",
    "\n",
    "#Now we have finished all the genes, we can close the output file:\n",
    "output_file.close()\n",
    "\n",
    "#and close the input file:\n",
    "input_file.close()\n"
   ]
  },
  {
   "cell_type": "code",
   "execution_count": null,
   "metadata": {},
   "outputs": [],
   "source": []
  },
  {
   "cell_type": "code",
   "execution_count": null,
   "metadata": {},
   "outputs": [],
   "source": []
  }
 ],
 "metadata": {
  "kernelspec": {
   "display_name": "Python 3",
   "language": "python",
   "name": "python3"
  },
  "language_info": {
   "codemirror_mode": {
    "name": "ipython",
    "version": 3
   },
   "file_extension": ".py",
   "mimetype": "text/x-python",
   "name": "python",
   "nbconvert_exporter": "python",
   "pygments_lexer": "ipython3",
   "version": "3.7.4"
  }
 },
 "nbformat": 4,
 "nbformat_minor": 2
}
